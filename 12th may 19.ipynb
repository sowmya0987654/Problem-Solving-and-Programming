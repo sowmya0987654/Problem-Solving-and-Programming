{
 "cells": [
  {
   "cell_type": "markdown",
   "metadata": {},
   "source": [
    "# problem solving and programming\n",
    "\n",
    "\n",
    "### Day 9\n",
    "### Date-12th may-19\n",
    " \n",
    "\n",
    "# problem 1:\n",
    "### problem statement\n",
    " Define a function to identity the number of times a substring is repeating in a given string\n",
    "\n",
    "\n",
    "\n",
    " ### constraints\n",
    " given number will be in range[1,10000000000,]\n",
    " \n",
    "\n",
    "### test cases\n",
    "* substringCount('str', 'substr') -> 1\n",
    "* substringCount('1234567891122334455', '3') -> 3\n",
    "* substringCount('abccddccc', 'cc') -> 3\n",
    "* substringCount('aaaaaaa', 'aaa' ) -> 5"
   ]
  },
  {
   "cell_type": "code",
   "execution_count": 1,
   "metadata": {},
   "outputs": [
    {
     "name": "stdout",
     "output_type": "stream",
     "text": [
      "1\n",
      "3\n",
      "3\n",
      "5\n"
     ]
    }
   ],
   "source": [
    "def substring(str1,str2):\n",
    "    count=0\n",
    "    if(len(str1))<=len(str2):\n",
    "        length=len(str1)\n",
    "        mstring=str2\n",
    "        sstring=str1\n",
    "    else:\n",
    "        length=len(str2)\n",
    "        mstring=str1\n",
    "        sstring=str2\n",
    "    for i in range(0,len(mstring)):\n",
    "            if(mstring[i:length]==sstring):\n",
    "                count +=1\n",
    "            length +=1\n",
    "    return count\n",
    "print(substring('str', 'substr'))\n",
    "print(substring('1234567891122334455', '3'))\n",
    "print(substring('abccddccc', 'cc'))\n",
    "print(substring('aaaaaaa', 'aaa' ))"
   ]
  },
  {
   "cell_type": "code",
   "execution_count": null,
   "metadata": {},
   "outputs": [],
   "source": []
  },
  {
   "cell_type": "markdown",
   "metadata": {},
   "source": [
    "# problem 2:\n",
    "### problem statement\n",
    " Define a function to find the average of all the outer elements of an N x M matrix.\n",
    "\n",
    "\n",
    "\n",
    " ### constraints\n",
    " given number will be in range[1,10000000000,]\n",
    " \n",
    "\n",
    "### test cases\n",
    "* averageOuterMatrix([[1, 2, 3], [4, 5, 6], [7, 8, 9], [10, 11, 12]] -> 6.5\n"
   ]
  },
  {
   "cell_type": "code",
   "execution_count": 1,
   "metadata": {},
   "outputs": [
    {
     "data": {
      "text/plain": [
       "6.5"
      ]
     },
     "execution_count": 1,
     "metadata": {},
     "output_type": "execute_result"
    }
   ],
   "source": [
    "\n",
    "def averageOuterMatrix(a):\n",
    "    c=0\n",
    "    s=0\n",
    "    for i in range(0,len(a)):\n",
    "        if i==0 or i==len(a)-1:\n",
    "            s=s+sum(a[i])\n",
    "            c=c+len(a[i])\n",
    "        else:\n",
    "            s=s+a[i][0]+a[i][len(a[i])-1]\n",
    "            c=c+2\n",
    "    return s/c\n",
    "averageOuterMatrix([[1, 2, 3], [4, 5, 6], [7, 8, 9], [10, 11, 12]]) \n",
    "\n",
    "\n"
   ]
  }
 ],
 "metadata": {
  "kernelspec": {
   "display_name": "Python 3",
   "language": "python",
   "name": "python3"
  },
  "language_info": {
   "codemirror_mode": {
    "name": "ipython",
    "version": 3
   },
   "file_extension": ".py",
   "mimetype": "text/x-python",
   "name": "python",
   "nbconvert_exporter": "python",
   "pygments_lexer": "ipython3",
   "version": "3.7.3"
  }
 },
 "nbformat": 4,
 "nbformat_minor": 2
}
