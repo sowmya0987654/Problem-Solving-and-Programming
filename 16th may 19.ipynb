{
 "cells": [
  {
   "cell_type": "markdown",
   "metadata": {},
   "source": [
    "# program solving and programming\n",
    "### Day 13\n",
    "### Date-16th may 19\n",
    "\n",
    "\n",
    "\n",
    "# problem 1:\n",
    "## problem statement\n",
    "define a function to read data from a text file\n",
    "\n",
    "### constraint\n",
    "\n",
    "\n",
    "## test cases\n"
   ]
  },
  {
   "cell_type": "code",
   "execution_count": null,
   "metadata": {},
   "outputs": [],
   "source": [
    "def readFileData(filename):\n",
    "    f=open(filename,'r')\n",
    "    #filedata=f.readline() \n",
    "    #filedata +=f.readline() # \n",
    "    filedata=f.read()\n",
    "    \n",
    "    f.close()\n",
    "    return filedata\n",
    "readFileData('DataFiles/data.txt')"
   ]
  },
  {
   "cell_type": "code",
   "execution_count": null,
   "metadata": {},
   "outputs": [],
   "source": [
    "def readFileData(filename):\n",
    "    with open(filename,'r') as f:\n",
    "        for line in f:\n",
    "            print(line,end='')\n",
    "        #filedata=f.readline() \n",
    "    #filedata +=f.readline() # \n",
    "    #filedata=f.read()\n",
    "    \n",
    "    \n",
    "    return \n",
    "readFileData('DataFiles/data.txt')"
   ]
  },
  {
   "cell_type": "code",
   "execution_count": null,
   "metadata": {},
   "outputs": [],
   "source": [
    "def readFileData(filename):\n",
    "    with open(filename,'r') as f:\n",
    "       #for line in f:\n",
    "        print(f.read())\n",
    "            #print(line)\n",
    "        #filedata=f.readline() \n",
    "    #filedata +=f.readline() # \n",
    "    #filedata=f.read()\n",
    "    \n",
    "    \n",
    "    return \n",
    "\n",
    "\n",
    "def writeintofile(filename,data):\n",
    "    with open(filename,'w') as f:\n",
    "        f.write(data)\n",
    "    return\n",
    "\n",
    "\n",
    "\n",
    "\n",
    "writeintofile('DataFiles/filewrite.txt','data written into filewrite')"
   ]
  },
  {
   "cell_type": "code",
   "execution_count": null,
   "metadata": {},
   "outputs": [],
   "source": [
    "def writeintofile(filename,data,mode):\n",
    "    with open(filename,mode) as f:\n",
    "        f.write(data)\n",
    "    return\n",
    "writeintofile('DataFiles/filewrite.txt','second line\\n','a')"
   ]
  },
  {
   "cell_type": "markdown",
   "metadata": {},
   "source": [
    "# problem 2:\n",
    "## problem statement\n",
    "define a function to generate a marks data file for 1300 students such that each marks is entered in a new line.marks range from 0 to 100(inclusive) as random numbers\n",
    "\n",
    "### constraint\n",
    "\n",
    "\n",
    "## test cases"
   ]
  },
  {
   "cell_type": "code",
   "execution_count": 7,
   "metadata": {},
   "outputs": [],
   "source": [
    "import random\n",
    "def generatemarksdata(n,filename):\n",
    "    with open(filename,'w') as marksfile:\n",
    "        for i in range(0,n):\n",
    "            marks=random.randrange(0,101)\n",
    "            marksfile.write(str(marks)+'\\n')\n",
    "    return\n",
    "\n",
    "\n",
    "generatemarksdata(1300,'DataFiles/marksdata.txt')    "
   ]
  },
  {
   "cell_type": "code",
   "execution_count": null,
   "metadata": {},
   "outputs": [],
   "source": []
  },
  {
   "cell_type": "markdown",
   "metadata": {},
   "source": [
    "# problem 3:\n",
    "## problem statement\n",
    "generate a report on themarks data with the following\n",
    "* highest mark\n",
    "* lowest mark\n",
    "* average mark\n",
    "* number of students with distinction(>80)\n",
    "* number of students with first class(>60)\n",
    "* number of students with second class(>50)\n",
    "* number of students with third class(>40)\n",
    "* number of students failed(<40)\n",
    "\n",
    "### constraint\n",
    "\n",
    "\n",
    "## test cases"
   ]
  },
  {
   "cell_type": "code",
   "execution_count": 61,
   "metadata": {},
   "outputs": [
    {
     "name": "stdout",
     "output_type": "stream",
     "text": [
      "100\n",
      "0\n",
      "49.79692307692308\n",
      "538\n"
     ]
    }
   ],
   "source": [
    "def generatemarksreport(filename,n):\n",
    "    l=[]\n",
    "    with open(filename,'r') as f:\n",
    "        for line in f:\n",
    "            l.append(int(line))\n",
    "            \n",
    "        print(max(l))\n",
    "        print(min(l))\n",
    "        print(sum(l)/n)\n",
    "        \n",
    "    failed=(sum(1 for i in l if i < 40))\n",
    "    print(failed)\n",
    "    \n",
    "generatemarksreport('DataFiles/marksdata.txt',1300)\n"
   ]
  },
  {
   "cell_type": "code",
   "execution_count": 34,
   "metadata": {
    "scrolled": true
   },
   "outputs": [
    {
     "ename": "SyntaxError",
     "evalue": "invalid syntax (<ipython-input-34-e1ed9ac8ed64>, line 8)",
     "output_type": "error",
     "traceback": [
      "\u001b[1;36m  File \u001b[1;32m\"<ipython-input-34-e1ed9ac8ed64>\"\u001b[1;36m, line \u001b[1;32m8\u001b[0m\n\u001b[1;33m    print(timeit.default_timer()-st)\u001b[0m\n\u001b[1;37m        ^\u001b[0m\n\u001b[1;31mSyntaxError\u001b[0m\u001b[1;31m:\u001b[0m invalid syntax\n"
     ]
    }
   ],
   "source": [
    "import re,timeit\n",
    "def generatemarksreport(marksfile):\n",
    "    \n",
    "st = timeit.default_timer()\n",
    "    marksdata = readFileData(marksfile)\n",
    "    \n",
    "    marksdata=re.split(r'\\n',marksdata)\n",
    "    print(type(marksfile[1])\n",
    "          print(timeit.default_timer()-st)\n",
    "\n",
    "generatemarksreport('marksdata.txt')"
   ]
  },
  {
   "cell_type": "code",
   "execution_count": null,
   "metadata": {},
   "outputs": [],
   "source": [
    "# "
   ]
  },
  {
   "cell_type": "code",
   "execution_count": 29,
   "metadata": {},
   "outputs": [
    {
     "name": "stdout",
     "output_type": "stream",
     "text": [
      "0.000169724999977916\n"
     ]
    },
    {
     "data": {
      "text/plain": [
       "[1.0, 2.0, 3.0, 4.0, 5.0, 6.0, 7.0]"
      ]
     },
     "execution_count": 29,
     "metadata": {},
     "output_type": "execute_result"
    }
   ],
   "source": [
    "import timeit\n",
    "def squares(n):\n",
    "    return n * n\n",
    "st=timeit.default_timer()\n",
    "li=[1,2,3,4,5,6,7]\n",
    "#s=str(li)\n",
    "s=list(map(str,li))\n",
    "s=[float(i)for i in s]\n",
    "print(timeit.default_timer()-st)\n",
    "s\n",
    "\n",
    "\n"
   ]
  },
  {
   "cell_type": "code",
   "execution_count": null,
   "metadata": {},
   "outputs": [],
   "source": []
  },
  {
   "cell_type": "code",
   "execution_count": 73,
   "metadata": {},
   "outputs": [
    {
     "name": "stdout",
     "output_type": "stream",
     "text": [
      "0\n",
      "0\n"
     ]
    }
   ],
   "source": [
    "def distinction(mark):\n",
    "    return mark >=80\n",
    "\n",
    "dis=sum(map(distinction,l))\n",
    "print(dis)\n",
    "failed=sum((1 for i in l if i <40))\n",
    "print(failed)"
   ]
  },
  {
   "cell_type": "code",
   "execution_count": null,
   "metadata": {},
   "outputs": [],
   "source": []
  },
  {
   "cell_type": "markdown",
   "metadata": {},
   "source": [
    "# external libaries"
   ]
  },
  {
   "cell_type": "markdown",
   "metadata": {},
   "source": [
    "## Numpy"
   ]
  },
  {
   "cell_type": "code",
   "execution_count": 64,
   "metadata": {},
   "outputs": [
    {
     "name": "stdout",
     "output_type": "stream",
     "text": [
      "[[0 1 2]\n",
      " [3 4 5]]\n"
     ]
    },
    {
     "data": {
      "text/plain": [
       "numpy.ndarray"
      ]
     },
     "execution_count": 64,
     "metadata": {},
     "output_type": "execute_result"
    }
   ],
   "source": [
    "import numpy as np\n",
    "a=np.array([[0,1,2],[3,4,5]])\n",
    "print(a)\n",
    "type(a)"
   ]
  },
  {
   "cell_type": "code",
   "execution_count": 70,
   "metadata": {},
   "outputs": [
    {
     "name": "stdout",
     "output_type": "stream",
     "text": [
      "[[ 5  7  9]\n",
      " [11 13 15]]\n"
     ]
    }
   ],
   "source": [
    "import numpy as np\n",
    "a=np.array([[1,2,3],[4,5,6]])\n",
    "b=np.array([[4,5,6],[7,8,9]])\n",
    "print(a+b)"
   ]
  },
  {
   "cell_type": "code",
   "execution_count": null,
   "metadata": {},
   "outputs": [],
   "source": []
  },
  {
   "cell_type": "markdown",
   "metadata": {},
   "source": [
    "\n"
   ]
  },
  {
   "cell_type": "code",
   "execution_count": null,
   "metadata": {},
   "outputs": [],
   "source": []
  }
 ],
 "metadata": {
  "kernelspec": {
   "display_name": "Python 3",
   "language": "python",
   "name": "python3"
  },
  "language_info": {
   "codemirror_mode": {
    "name": "ipython",
    "version": 3
   },
   "file_extension": ".py",
   "mimetype": "text/x-python",
   "name": "python",
   "nbconvert_exporter": "python",
   "pygments_lexer": "ipython3",
   "version": "3.7.3"
  }
 },
 "nbformat": 4,
 "nbformat_minor": 2
}
