{
 "cells": [
  {
   "cell_type": "markdown",
   "metadata": {},
   "source": [
    "# problem solving and programming\n",
    "\n",
    "### Day 10\n",
    "### Date-13th may-19\n",
    " \n",
    "# problem 1:\n",
    "### problem statement\n",
    " Define a function to identity the number of times a substring is repeating in a given string\n",
    "\n",
    "\n",
    "\n",
    " ### constraints\n",
    " given number will be in range[1,10000000000,]\n",
    " \n",
    "\n",
    "### test cases\n",
    "* spiralPattern([[1,2,3], [4,5,6], [7,8,9]]) -> 1 2 3 6 9 8 7 4 5"
   ]
  },
  {
   "cell_type": "code",
   "execution_count": null,
   "metadata": {},
   "outputs": [],
   "source": []
  },
  {
   "cell_type": "code",
   "execution_count": 5,
   "metadata": {},
   "outputs": [
    {
     "name": "stdout",
     "output_type": "stream",
     "text": [
      "1 2 3 6 9 8 7 4 5 "
     ]
    }
   ],
   "source": [
    "def spiralPattern(a):\n",
    "    if len(a)%2==0:\n",
    "        n=len(a)\n",
    "    else:\n",
    "        n=len(a)+1\n",
    "    j=0\n",
    "    k=1\n",
    "    while(n!=0):\n",
    "        for i in range(j,len(a[j])-k):\n",
    "            print(a[j][i],end=' ')\n",
    "        for i in range(j,len(a)-k):\n",
    "            print(a[i][len(a[j])-k],end=' ')\n",
    "        for i in range(len(a[j])-k,j,-1):\n",
    "            print(a[len(a)-k][i],end=' ')\n",
    "        for i in range(len(a)-k,j,-1):\n",
    "            print(a[i][j],end=' ')\n",
    "        n=n-2\n",
    "        j=j+1\n",
    "        k=k+1\n",
    "    if(len(a)%2==1):\n",
    "        print(a[len(a)//2][len(a)//2],end=' ')\n",
    "spiralPattern([[1,2,3], [4,5,6], [7,8,9]])\n"
   ]
  },
  {
   "cell_type": "code",
   "execution_count": null,
   "metadata": {},
   "outputs": [],
   "source": []
  },
  {
   "cell_type": "markdown",
   "metadata": {},
   "source": [
    "# problem 2:\n",
    "### problem statement\n",
    " Design a Python script to determine the difference in date for given two dates in YYYY:MM:DD format(0 <= YYYY <= 9999, 1 <= MM <= 12, 1 <= DD <= 31) following the leap year rules. Return the total number of days existing between the two dates.\n",
    "\n",
    "\n",
    "\n",
    "\n",
    "\n",
    " ### constraints\n",
    " given number will be in range[1,10000000000,]\n",
    " \n",
    "\n",
    "### test cases\n",
    "* dateDifference('2019:05:10', '2019:05:01') -> 9\n",
    "* dateDifference('0003:03:03', '0003:06:06') -> 95\n",
    "* dateDifference('0001:03:27', '0001:06:03') -> 68\n"
   ]
  },
  {
   "cell_type": "code",
   "execution_count": 1,
   "metadata": {},
   "outputs": [
    {
     "data": {
      "text/plain": [
       "95"
      ]
     },
     "execution_count": 1,
     "metadata": {},
     "output_type": "execute_result"
    }
   ],
   "source": [
    "def datedifference(date1,date2):\n",
    "    if yearfromdate(date1) == yearfromdate(date2):\n",
    "        return abs(totaldaysdate(date1) - totaldaysdate(date2))\n",
    "    elif yearfromdate(date2) - yearfromdate(date1) == 1:\n",
    "        return totalDaysDateEndYear(date1) + totaldaysdate(date2)\n",
    "    else:\n",
    "        sum = totalDaysDateEndYear(date1) + totaldaysdate(date2)\n",
    "        year1 = yearfromdate(date1)\n",
    "        year2 = yearfromdate(date2)\n",
    "        for i in range(year+1, year2):\n",
    "            sum += numdaysinyear(i)\n",
    "        return sum\n",
    "\n",
    "def dateinFeb(n):\n",
    "    if (n%4==0 and n%100!=0 or n%400==0):\n",
    "        return 29\n",
    "    return 28\n",
    "\n",
    "\n",
    "def numdaysinmonth(month,year):\n",
    "    monthDays = {'01':31, '03':31, '04':30, '05':31, '06':30, '07':31, '08':31, '09':30, '10':31, '11':30, '12':31 }\n",
    "    if(month == 2):\n",
    "        return dateinFeb(year)\n",
    "    elif (month < 7 and month !=2 and month % 2 == 0) or (month>7 and month % 2 != 0):\n",
    "        return 30   \n",
    "    else:\n",
    "        return 31\n",
    "    \n",
    "def numdaysinyear(year):\n",
    "    if dateinFeb(year) == 29:\n",
    "        return 366\n",
    "    return 365\n",
    "\n",
    "#this function returns total number of days completed till the given date\n",
    "def totaldaysdate(date):\n",
    "    year = yearfromdate(date)\n",
    "    month =monthfromdate(date) \n",
    "    day = daysfromdate(date)\n",
    "    sum = 0\n",
    "    for i in range(1, month):\n",
    "        sum += numdaysinmonth(i, year)\n",
    "    sum += ( day)\n",
    "    return sum\n",
    "\n",
    "def totalDaysDateEndYear(date):\n",
    "    year = yearfromdate(date)\n",
    "    month =monthfromdate(date) \n",
    "    day = daysfromdate(date)\n",
    "    sum=0\n",
    "    for i in range( month+1,13):\n",
    "        sum += numdaysinmonth(i, year)\n",
    "    sum += (numdaysinmonth(month,year)- day +1)\n",
    "    return sum\n",
    "    \n",
    "\n",
    "def  yearfromdate(date):\n",
    "    return int(int(date[:4]))\n",
    "def monthfromdate(date):\n",
    "    return int( int(date[5:7]))\n",
    "def daysfromdate(date):\n",
    "    return(int(date[len(date)-2:]))\n",
    "    \n",
    "    \n",
    "#datedifference('0001:01:31','0002:01:31')\n",
    "\n",
    "datedifference('0003:03:03', '0003:06:06')"
   ]
  }
 ],
 "metadata": {
  "kernelspec": {
   "display_name": "Python 3",
   "language": "python",
   "name": "python3"
  },
  "language_info": {
   "codemirror_mode": {
    "name": "ipython",
    "version": 3
   },
   "file_extension": ".py",
   "mimetype": "text/x-python",
   "name": "python",
   "nbconvert_exporter": "python",
   "pygments_lexer": "ipython3",
   "version": "3.7.3"
  }
 },
 "nbformat": 4,
 "nbformat_minor": 2
}
