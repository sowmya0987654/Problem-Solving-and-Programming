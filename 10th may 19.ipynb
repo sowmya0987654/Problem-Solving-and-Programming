{
 "cells": [
  {
   "cell_type": "markdown",
   "metadata": {},
   "source": [
    "# program solving and programming\n",
    "\n",
    "\n",
    "### Day 7\n",
    "### Date-10th may-19\n",
    "\n",
    "\n",
    "\n",
    "# problem1:\n",
    "### problem statement\n",
    "Procedure to count the number of digits in a given number\n",
    "\n",
    "\n",
    " ### constraints\n",
    " given number will be in range[1,10000000000]\n",
    " \n",
    "\n",
    "### test cases\n",
    "* CountDigits(123456)->6\n",
    "* CountDigits (0)->1\n",
    "\n"
   ]
  },
  {
   "cell_type": "code",
   "execution_count": 3,
   "metadata": {},
   "outputs": [
    {
     "name": "stdout",
     "output_type": "stream",
     "text": [
      "6\n",
      "0\n"
     ]
    }
   ],
   "source": [
    "def countdigits(n):\n",
    "    count=0\n",
    "    while(n>0):\n",
    "        count=count+1\n",
    "        n=n//10\n",
    "        \n",
    "    return(count)\n",
    "        \n",
    "print(countdigits(123456))\n",
    "print(countdigits(0))"
   ]
  },
  {
   "cell_type": "code",
   "execution_count": null,
   "metadata": {},
   "outputs": [],
   "source": []
  },
  {
   "cell_type": "markdown",
   "metadata": {},
   "source": [
    "# problem2:\n",
    "### problem statement\n",
    "Design a procedure to calculate the squareroot of a number \"without using the math function sqrt\n",
    "\n",
    "\n",
    " ### constraints\n",
    " given number will be in range[1,10000000000]\n",
    " \n",
    "\n",
    "### test cases\n",
    "* Squareroot(25)->5\n",
    "* Squareroot(36)->6\n",
    "* Squareroot(100)->6\n"
   ]
  },
  {
   "cell_type": "code",
   "execution_count": 4,
   "metadata": {},
   "outputs": [
    {
     "name": "stdout",
     "output_type": "stream",
     "text": [
      "5.0\n",
      "6.0\n",
      "10.0\n"
     ]
    }
   ],
   "source": [
    "def squareroot(n):\n",
    "    for i in range(1,n**2):\n",
    "        s=pow(n,0.5)\n",
    "    return s\n",
    "print(squareroot(25))\n",
    "print(squareroot(36))\n",
    "print(squareroot(100))"
   ]
  },
  {
   "cell_type": "code",
   "execution_count": null,
   "metadata": {},
   "outputs": [],
   "source": []
  },
  {
   "cell_type": "markdown",
   "metadata": {},
   "source": [
    "# problem3:\n",
    "### problem statement\n",
    "Design a procedure to sort a given array in ascending order\n",
    "\n",
    "\n",
    " ### constraints\n",
    " given number will be in range[1,10000000000]\n",
    " \n",
    "\n",
    "### test cases\n",
    "* sort([3, 2, 1, 4, 4, 5, 6])->[1, 2, 3, 4, 4, 5, 6]\n",
    "* sort([1, 2, 3])->[1, 2, 3]"
   ]
  },
  {
   "cell_type": "code",
   "execution_count": 6,
   "metadata": {},
   "outputs": [
    {
     "name": "stdout",
     "output_type": "stream",
     "text": [
      "[1, 2, 3, 4, 4, 5, 6]\n",
      "[1, 2, 3]\n"
     ]
    }
   ],
   "source": [
    "def sorting(n):\n",
    "    n.sort()\n",
    "    return n\n",
    "print(sorting([3,2,1,4,4,5,6]))\n",
    "print(sorting([1,2,3]))"
   ]
  },
  {
   "cell_type": "code",
   "execution_count": null,
   "metadata": {},
   "outputs": [],
   "source": []
  },
  {
   "cell_type": "markdown",
   "metadata": {},
   "source": [
    "# problem 4:\n",
    "### problem statement\n",
    "Procedure to check if a given number is Prime and returns a Boolean value.\n",
    "\n",
    "\n",
    " ### constraints\n",
    " given number will be in range[1,10000000000,boolean]\n",
    " \n",
    "\n",
    "### test cases\n",
    "* isprime(7)->true\n",
    "* isprime(9)->false"
   ]
  },
  {
   "cell_type": "code",
   "execution_count": 47,
   "metadata": {},
   "outputs": [
    {
     "name": "stdout",
     "output_type": "stream",
     "text": [
      "True\n",
      "False\n"
     ]
    }
   ],
   "source": [
    "def isprime(n):\n",
    "    count=0\n",
    "    for i in range(2,n):\n",
    "        if(n%i==0):\n",
    "            count +=1\n",
    "    if (count==0):\n",
    "        return True\n",
    "    else:\n",
    "        return False\n",
    "print(isprime(7))\n",
    "print(isprime(9))"
   ]
  },
  {
   "cell_type": "code",
   "execution_count": null,
   "metadata": {},
   "outputs": [],
   "source": []
  },
  {
   "cell_type": "markdown",
   "metadata": {},
   "source": [
    "# problem5:\n",
    "### problem statement\n",
    "Design a flowchart to evaluate the polynomial\n",
    "f(x)= x^3 + 2 X^2 + 3 X - 10 for x in the range [1, 1000]\n",
    "\n",
    "\n",
    " ### constraints\n",
    " given number will be in range[1,10000000000]\n",
    " \n",
    "\n",
    "### test cases"
   ]
  },
  {
   "cell_type": "code",
   "execution_count": 22,
   "metadata": {},
   "outputs": [
    {
     "name": "stdout",
     "output_type": "stream",
     "text": [
      "enter a number:720\n",
      "374286950\n"
     ]
    }
   ],
   "source": [
    "poly=int(input(\"enter a number:\"))\n",
    "print(poly**3+2*poly**2+3*poly-10)"
   ]
  },
  {
   "cell_type": "code",
   "execution_count": null,
   "metadata": {},
   "outputs": [],
   "source": []
  },
  {
   "cell_type": "markdown",
   "metadata": {},
   "source": [
    "# problem 6:\n",
    "### problem statement\n",
    "power of anumber using recursion\n",
    "\n",
    "\n",
    " ### constraints\n",
    " given number will be in range[1,10000000000]\n",
    " \n",
    "\n",
    "### test cases\n",
    "* recursivepower(2,3)->8\n",
    "* recursivepower(2,10)->1024"
   ]
  },
  {
   "cell_type": "code",
   "execution_count": 7,
   "metadata": {},
   "outputs": [
    {
     "name": "stdout",
     "output_type": "stream",
     "text": [
      "8\n",
      "1024\n"
     ]
    }
   ],
   "source": [
    "def recursivepower(n,r):\n",
    "    if r==1:\n",
    "        return n\n",
    "    else:\n",
    "        return recursivepower(n,r-1) * n\n",
    "print(recursivepower(2,3)) \n",
    "print(recursivepower(2,10))"
   ]
  },
  {
   "cell_type": "code",
   "execution_count": null,
   "metadata": {},
   "outputs": [],
   "source": []
  },
  {
   "cell_type": "markdown",
   "metadata": {},
   "source": [
    "# problem 7:\n",
    "### problem statement\n",
    "factorial of a number using recursion\n",
    "\n",
    "\n",
    " ### constraints\n",
    " given number will be in range[1,10000000000]\n",
    " \n",
    "\n",
    "### test cases\n",
    "* factorial(5)->120\n",
    "* factorial(6)->720\n",
    "* factroial(7)->5040"
   ]
  },
  {
   "cell_type": "code",
   "execution_count": 11,
   "metadata": {},
   "outputs": [
    {
     "name": "stdout",
     "output_type": "stream",
     "text": [
      "120\n",
      "720\n",
      "5040\n"
     ]
    }
   ],
   "source": [
    "def factorial(n):\n",
    "    if n==1:\n",
    "        return n\n",
    "    else:\n",
    "        return factorial(n-1)*n\n",
    "print(factorial(5))\n",
    "print(factorial(6))\n",
    "print(factorial(7))"
   ]
  },
  {
   "cell_type": "code",
   "execution_count": null,
   "metadata": {},
   "outputs": [],
   "source": []
  },
  {
   "cell_type": "markdown",
   "metadata": {},
   "source": [
    "# problem 8:\n",
    "### problem statement\n",
    "gcd using recursion and iterative\n",
    "\n",
    "\n",
    " ### constraints\n",
    " given number will be in range[1,10000000000]\n",
    " \n",
    "\n",
    "### test cases\n",
    "gcdrecursive(12,39)->3"
   ]
  },
  {
   "cell_type": "code",
   "execution_count": 15,
   "metadata": {},
   "outputs": [
    {
     "data": {
      "text/plain": [
       "3"
      ]
     },
     "execution_count": 15,
     "metadata": {},
     "output_type": "execute_result"
    }
   ],
   "source": [
    "#recursive gcd\n",
    "#gcd of two numbers remains the same when \n",
    "#smaller parameter is reduced to the remainder\n",
    "#and larger parameter is replaced by smaller number\n",
    "#gcd(a,b)gcd(b%a,a)\n",
    "def gcdrecursive(a,b):\n",
    "    if b%a==0:\n",
    "        return a\n",
    "    else:\n",
    "        return gcdrecursive(b%a,a)\n",
    "gcdrecursive(12,39)    "
   ]
  },
  {
   "cell_type": "code",
   "execution_count": 20,
   "metadata": {},
   "outputs": [
    {
     "data": {
      "text/plain": [
       "6"
      ]
     },
     "execution_count": 20,
     "metadata": {},
     "output_type": "execute_result"
    }
   ],
   "source": [
    "#iterative gcd\n",
    "def gcditerative(a,b):\n",
    "    r=b%a\n",
    "    if (r==0):\n",
    "        return a\n",
    "    while r!=0:\n",
    "        r=b%a\n",
    "        b=a\n",
    "        a=r\n",
    "    return b\n",
    "gcditerative(6,12)"
   ]
  },
  {
   "cell_type": "code",
   "execution_count": null,
   "metadata": {},
   "outputs": [],
   "source": []
  },
  {
   "cell_type": "markdown",
   "metadata": {},
   "source": [
    "# problem 9:\n",
    "### problem statement\n",
    "tower of hanoi using recursion\n",
    "\n",
    "\n",
    " ### constraints\n",
    " given number will be in range[1,10000000000]\n",
    " \n",
    "\n",
    "### test cases\n",
    "\n",
    "\n",
    "### explanation\n",
    "n disks->move n-1 from source to temporary\n",
    "\n",
    "         move nth disk from source to destination\n",
    "         \n",
    "         move n-1 disk fromtemporary to destination\n",
    "3 disks->move 2nd disk from source to temporary\n",
    "\n",
    "         move 3rd disk from source to destination\n",
    "         \n",
    "         move 2nd from temporary to destination"
   ]
  },
  {
   "cell_type": "code",
   "execution_count": 23,
   "metadata": {},
   "outputs": [
    {
     "name": "stdout",
     "output_type": "stream",
     "text": [
      "move  1 disk from  a to c\n",
      "move  2 disk from  a to b\n",
      "move  1 disk from  c to b\n",
      "move  3 disk from  a to c\n",
      "move  1 disk from  b to a\n",
      "move  2 disk from  b to c\n",
      "move  1 disk from  a to c\n"
     ]
    }
   ],
   "source": [
    "def towersofhanoi(n,source,temp,dest):\n",
    "    if n==1:\n",
    "        print('move ',n,'disk from ',source,'to',dest)\n",
    "        return\n",
    "    else:\n",
    "        towersofhanoi(n-1,source,dest,temp)\n",
    "        print('move ',n,'disk from ',source,'to',dest)\n",
    "        towersofhanoi(n-1,temp,source,dest)\n",
    "        return\n",
    "towersofhanoi(3,'a','b','c')"
   ]
  },
  {
   "cell_type": "code",
   "execution_count": null,
   "metadata": {},
   "outputs": [],
   "source": []
  },
  {
   "cell_type": "markdown",
   "metadata": {},
   "source": [
    "# problem 10:\n",
    "### problem statement\n",
    "genarating the nth fibonacci number using recursion\n",
    "\n",
    "\n",
    " ### constraints\n",
    " given number will be in range[1,10000000000]\n",
    " \n",
    "\n",
    "### test cases\n",
    "* fibonacci(2)->1\n",
    "* fibonacci(7)->13\n",
    "* fibonacci(0)->0\n"
   ]
  },
  {
   "cell_type": "code",
   "execution_count": 49,
   "metadata": {},
   "outputs": [
    {
     "name": "stdout",
     "output_type": "stream",
     "text": [
      "1\n",
      "13\n",
      "0\n"
     ]
    }
   ],
   "source": [
    "def fibonacci(n):\n",
    "    if n==0:\n",
    "        return 0\n",
    "\n",
    "    elif n==1:\n",
    "        return 1\n",
    "    elif n==2:\n",
    "        return 1\n",
    "    else:\n",
    "        return (fibonacci(n-1)+fibonacci(n-2))\n",
    "    \n",
    "print(fibonacci(2))\n",
    "print(fibonacci(7))\n",
    "print(fibonacci(0))\n",
    "    "
   ]
  },
  {
   "cell_type": "code",
   "execution_count": null,
   "metadata": {},
   "outputs": [],
   "source": []
  },
  {
   "cell_type": "markdown",
   "metadata": {},
   "source": [
    "# problem 11:\n",
    "### problem statement\n",
    "Define a function to convert a decimal number to the corresponding binary number\n",
    "\n",
    " ### constraints\n",
    " given number will be in range[1,10000000000]\n",
    " \n",
    "\n",
    "### test cases\n",
    "* \n",
    "* \n"
   ]
  },
  {
   "cell_type": "code",
   "execution_count": 55,
   "metadata": {},
   "outputs": [
    {
     "name": "stdout",
     "output_type": "stream",
     "text": [
      "1111"
     ]
    }
   ],
   "source": [
    "def decimaltobinary(n):\n",
    "    if(n>1):\n",
    "        decimaltobinary(n//2)\n",
    "    print(n%2,end='') \n",
    "    \n",
    "decimaltobinary(15)\n"
   ]
  }
 ],
 "metadata": {
  "kernelspec": {
   "display_name": "Python 3",
   "language": "python",
   "name": "python3"
  },
  "language_info": {
   "codemirror_mode": {
    "name": "ipython",
    "version": 3
   },
   "file_extension": ".py",
   "mimetype": "text/x-python",
   "name": "python",
   "nbconvert_exporter": "python",
   "pygments_lexer": "ipython3",
   "version": "3.7.3"
  }
 },
 "nbformat": 4,
 "nbformat_minor": 2
}
