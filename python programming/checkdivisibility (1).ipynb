{
 "cells": [
  {
   "cell_type": "markdown",
   "metadata": {},
   "source": [
    "# program solving "
   ]
  },
  {
   "cell_type": "markdown",
   "metadata": {},
   "source": [
    "### problem 1:\n",
    "#### problem statement\n",
    "for agiven number,define a function to check if it is divisible by 2 and but not 3\n",
    " \n",
    " ### constrsints\n",
    " given number will be in range[1,10000000000]\n",
    " \n",
    "#### test cases\n",
    "* checkdivisibility(6)->true\n",
    "* checkdivisibility(16)->false\n",
    "* checkdivisibility(20)->false"
   ]
  },
  {
   "cell_type": "code",
   "execution_count": 5,
   "metadata": {},
   "outputs": [
    {
     "data": {
      "text/plain": [
       "False"
      ]
     },
     "execution_count": 5,
     "metadata": {},
     "output_type": "execute_result"
    }
   ],
   "source": [
    "def checkdivisibility(n):\n",
    "    if(n%2==0 and n%3==0 and n%4!=0):\n",
    "        return True\n",
    "    else:\n",
    "        return False\n",
    "    \n",
    "checkdivisibility(16)    "
   ]
  },
  {
   "cell_type": "code",
   "execution_count": null,
   "metadata": {},
   "outputs": [],
   "source": []
  }
 ],
 "metadata": {
  "kernelspec": {
   "display_name": "Python 3",
   "language": "python",
   "name": "python3"
  },
  "language_info": {
   "codemirror_mode": {
    "name": "ipython",
    "version": 3
   },
   "file_extension": ".py",
   "mimetype": "text/x-python",
   "name": "python",
   "nbconvert_exporter": "python",
   "pygments_lexer": "ipython3",
   "version": "3.7.3"
  }
 },
 "nbformat": 4,
 "nbformat_minor": 2
}
