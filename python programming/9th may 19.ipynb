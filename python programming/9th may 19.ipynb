{
 "cells": [
  {
   "cell_type": "markdown",
   "metadata": {},
   "source": [
    "# problem1:\n",
    "### problem statement\n",
    "finding greatest of three\n",
    "\n",
    "\n",
    " ### constraints\n",
    " given number will be in range[1,10000000000]\n",
    " \n",
    "\n",
    "### test cases\n",
    "* greatest(2,3,4)->4\n",
    "* greatest(34,56,7)->56\n",
    "* greatest(7,14,6)->14\n"
   ]
  },
  {
   "cell_type": "code",
   "execution_count": 65,
   "metadata": {},
   "outputs": [
    {
     "name": "stdout",
     "output_type": "stream",
     "text": [
      "z is greatest\n",
      "y is greatest\n",
      "y is greatest\n"
     ]
    }
   ],
   "source": [
    "def greatest(x,y,z):\n",
    "    if x>y and x>z:\n",
    "        return(\"x is greatest\")\n",
    "    elif y>z:\n",
    "        return(\"y is greatest\")\n",
    "    else:\n",
    "        return(\"z is greatest\")\n",
    "                        \n",
    "print(greatest(2,3,4))\n",
    "print(greatest(34,56,7))\n",
    "print(greatest(7,14,6))\n",
    "                  \n"
   ]
  },
  {
   "cell_type": "code",
   "execution_count": null,
   "metadata": {},
   "outputs": [],
   "source": []
  },
  {
   "cell_type": "markdown",
   "metadata": {},
   "source": [
    "# problem2:\n",
    "### problem statement\n",
    "Given 2 int values, return True if one is negative and one is positive. Except if the parameter \"negative\" is True, then return True only if both are negative.\n",
    "\n",
    "\n",
    " ### constraints\n",
    " given number will be in range[1,10000000000,boolean]\n",
    " \n",
    "\n",
    "### test cases\n",
    "* pos_neg(1, -1, False) → True\n",
    "* pos_neg(-1, 1, False) → True\n",
    "* pos_neg(-4, -5, True) → True\n",
    "* pos_neg(-1, 1, True) → false\n",
    "* pos_neg(4, 5, True) → false\n",
    "* pos_neg(-4, -5, false) → false\n"
   ]
  },
  {
   "cell_type": "code",
   "execution_count": 16,
   "metadata": {},
   "outputs": [
    {
     "name": "stdout",
     "output_type": "stream",
     "text": [
      "True\n",
      "True\n",
      "True\n",
      "False\n",
      "False\n",
      "False\n"
     ]
    }
   ],
   "source": [
    "def pos_neg(n1,n2,b):\n",
    "    return (n1<0 and n2>0 and b==False) or (n1>0 and n2<0 and b==False) or (n1<0 and n2<0 and b==True)\n",
    "        \n",
    "print(pos_neg(1, -1, False))\n",
    "print(pos_neg(-1, 1, False))\n",
    "print(pos_neg(-4,-5, True))\n",
    "print(pos_neg(-1, 1, True))\n",
    "print(pos_neg(4, 5, True))\n",
    "print(pos_neg(-4, -5, False))"
   ]
  },
  {
   "cell_type": "code",
   "execution_count": null,
   "metadata": {},
   "outputs": [],
   "source": []
  },
  {
   "cell_type": "markdown",
   "metadata": {},
   "source": [
    "# problem3:\n",
    "### problem statement\n",
    "Determining whether a number is Even or Odd\n",
    "\n",
    "\n",
    "\n",
    " ### constraints\n",
    " given number will be in range[1,10000000000,]\n",
    " \n",
    "\n",
    "### test cases\n",
    "* evenorodd(7)->odd\n",
    "* evenorodd(6)->even\n",
    "* evenorodd(14)->even"
   ]
  },
  {
   "cell_type": "code",
   "execution_count": 17,
   "metadata": {},
   "outputs": [
    {
     "name": "stdout",
     "output_type": "stream",
     "text": [
      "odd number\n"
     ]
    }
   ],
   "source": [
    "def evenorodd(n):\n",
    "    if n%2==0:\n",
    "        print(\"even number\")\n",
    "    else:\n",
    "        print(\"odd number\")\n",
    "        \n",
    "evenorodd(7)        \n"
   ]
  },
  {
   "cell_type": "code",
   "execution_count": null,
   "metadata": {},
   "outputs": [],
   "source": []
  },
  {
   "cell_type": "markdown",
   "metadata": {},
   "source": [
    "# problem4:\n",
    "### problem statement\n",
    "Given an int n, return True if it is within 10 of 100 or 200. Note: abs(num) computes the absolute value of a number\n",
    "\n",
    " ### constraints\n",
    " given number will be in range[1,10000000000,]\n",
    " \n",
    "\n",
    "### test cases\n",
    "* near_hundred(93) → True\n",
    "* near_hundred(90) → True\n",
    "* near_hundred(89) → False"
   ]
  },
  {
   "cell_type": "code",
   "execution_count": 18,
   "metadata": {},
   "outputs": [
    {
     "name": "stdout",
     "output_type": "stream",
     "text": [
      "True\n",
      "True\n",
      "False\n"
     ]
    }
   ],
   "source": [
    "def near_hundred(n):\n",
    "    if(n<=110) and (n>=90):\n",
    "        return True\n",
    "    else:\n",
    "        return False\n",
    "\n",
    "print(near_hundred(93))\n",
    "print(near_hundred(90))\n",
    "print(near_hundred(89))\n"
   ]
  },
  {
   "cell_type": "code",
   "execution_count": null,
   "metadata": {},
   "outputs": [],
   "source": []
  },
  {
   "cell_type": "markdown",
   "metadata": {},
   "source": [
    "# problem5:\n",
    "### problem statement\n",
    "given an interger N,calculate the sum of N random numbers in the range[0,1000000000000000]\n",
    "\n",
    " ### constraints\n",
    " given number will be in range[1,10000000000,]\n",
    " \n",
    "\n",
    "### test cases\n"
   ]
  },
  {
   "cell_type": "code",
   "execution_count": 31,
   "metadata": {},
   "outputs": [
    {
     "data": {
      "text/plain": [
       "50085763434809469"
      ]
     },
     "execution_count": 31,
     "metadata": {},
     "output_type": "execute_result"
    }
   ],
   "source": [
    "import random\n",
    "\n",
    "def SumRandom(n,lb,ub):\n",
    "    sum=0\n",
    "    for count in range(1, n+1):\n",
    "        sum=sum + random.randint(lb,ub)\n",
    "    return sum\n",
    "          \n",
    "SumRandom(100,1000,1000000000000000)"
   ]
  },
  {
   "cell_type": "code",
   "execution_count": null,
   "metadata": {},
   "outputs": [],
   "source": []
  },
  {
   "cell_type": "markdown",
   "metadata": {},
   "source": [
    "# problem6:\n",
    "### problem statement\n",
    "Given 2 ints, a and b, return True if one if them is 10 or if their sum is 10.\n",
    "\n",
    " ### constraints\n",
    " given number will be in range[1,10000000000,boolean]\n",
    " \n",
    "\n",
    "### test cases\n",
    "* makes10(9, 10) → True\n",
    "* makes10(9, 9) → False\n",
    "* makes10(1, 9) → True"
   ]
  },
  {
   "cell_type": "code",
   "execution_count": 38,
   "metadata": {},
   "outputs": [
    {
     "name": "stdout",
     "output_type": "stream",
     "text": [
      "True\n",
      "False\n",
      "True\n"
     ]
    }
   ],
   "source": [
    "def makes(a,b):\n",
    "    if a+b==10 or a==10 or b==10:\n",
    "        return True\n",
    "    else:\n",
    "        return False\n",
    "print(makes(9, 10))\n",
    "print(makes(9, 9))\n",
    "print(makes(1, 9))"
   ]
  },
  {
   "cell_type": "code",
   "execution_count": null,
   "metadata": {},
   "outputs": [],
   "source": []
  },
  {
   "cell_type": "markdown",
   "metadata": {},
   "source": [
    "# problem7:\n",
    "### problem statement\n",
    "Design a procedure to perform Linear search on list of N unsorted unique numbers. It take an array and the key element to be searched and returns the index of the element of key element if found. Else returns -1\n",
    "\n",
    "\n",
    " ### constraints\n",
    " given number will be in range[1,10000000000]\n",
    " \n",
    "\n",
    "### test cases\n",
    "* linearsearch([1,4,8,0,3,5,6],3)->4\n",
    "* linearsearch([15,12,9,6,3,-3],0)->-1\n",
    "* linearsearch([23,34,56,78],56)->2"
   ]
  },
  {
   "cell_type": "code",
   "execution_count": 44,
   "metadata": {},
   "outputs": [
    {
     "name": "stdout",
     "output_type": "stream",
     "text": [
      "4\n",
      "-1\n",
      "2\n"
     ]
    }
   ],
   "source": [
    "def linearsearch(a,key):\n",
    "    for i in range(0,len(a)):\n",
    "        if(a[i]==key):\n",
    "            return i\n",
    "    return -1\n",
    "print(linearsearch([1,4,8,0,3,5,6],3))\n",
    "print(linearsearch([15,12,9,6,3,-3],0))\n",
    "print(linearsearch([23,34,56,78],56))"
   ]
  },
  {
   "cell_type": "code",
   "execution_count": null,
   "metadata": {},
   "outputs": [],
   "source": []
  },
  {
   "cell_type": "markdown",
   "metadata": {},
   "source": [
    "# problem8:\n",
    "### problem statement\n",
    "Procedure to print N natural numbers.\n",
    "\n",
    " ### constraints\n",
    " given number will be in range[1,10000000000]\n",
    " \n",
    " \n",
    "\n",
    "### test cases\n",
    "* naturalnumbers(7)->1,2,3,4,5,6,7\n",
    "* naturalnumbers(4)->1,2,3,4\n",
    "* naturalnumbers(5)->1,2,3,4,5"
   ]
  },
  {
   "cell_type": "code",
   "execution_count": 45,
   "metadata": {},
   "outputs": [
    {
     "name": "stdout",
     "output_type": "stream",
     "text": [
      "1\n",
      "2\n",
      "3\n",
      "4\n",
      "5\n",
      "6\n",
      "7\n"
     ]
    }
   ],
   "source": [
    "def naturalnumbers(n):\n",
    "    for n in range(1,n+1):\n",
    "        print(n)\n",
    "naturalnumbers(7)        "
   ]
  },
  {
   "cell_type": "code",
   "execution_count": null,
   "metadata": {},
   "outputs": [],
   "source": []
  },
  {
   "cell_type": "markdown",
   "metadata": {},
   "source": [
    "# problem9:\n",
    "### problem statement\n",
    "Create a Random Number Generator as a Procedure which takes the Range(lb, ub) and returns a Random number in the given range\n",
    "\n",
    " ### constraints\n",
    " ib<random<ub\n",
    " \n",
    " \n",
    "\n",
    "### test cases\n",
    "generaterandom(1,100)->will be range(1,101)"
   ]
  },
  {
   "cell_type": "code",
   "execution_count": 59,
   "metadata": {},
   "outputs": [
    {
     "data": {
      "text/plain": [
       "84"
      ]
     },
     "execution_count": 59,
     "metadata": {},
     "output_type": "execute_result"
    }
   ],
   "source": [
    "import random\n",
    "\n",
    "def randomgenerator(ib,ub):\n",
    "     return random.randrange(ib+1,ub)\n",
    "    \n",
    "randomgenerator(1,101)    "
   ]
  },
  {
   "cell_type": "code",
   "execution_count": null,
   "metadata": {},
   "outputs": [],
   "source": []
  },
  {
   "cell_type": "markdown",
   "metadata": {},
   "source": [
    "# problem10:\n",
    "### problem statement\n",
    "Design a procedure calculate the maximum, minimum and average of N numbers\n",
    "\n",
    " ### constraints\n",
    " given number will be in range[1,10000000000]\n",
    " \n",
    " \n",
    "\n",
    "### test cases\n",
    "* a[2,3,4,5,6,7]->max=7\n",
    "* a[2,3,4,5,6,7]->min=2\n",
    "* a[2,3,4,5,6,7]->avg=4.5"
   ]
  },
  {
   "cell_type": "code",
   "execution_count": null,
   "metadata": {},
   "outputs": [],
   "source": [
    "def maxminavg(a,n):\n",
    " \n",
    "    print(\"maximum  \",max(a))\n",
    "    print(\"minimum  \",min(a))\n",
    "    print(\"average  \",sum(a)/n)\n",
    "\n",
    "maxminavg([2,3,4,5,6,7],6)\n",
    "       "
   ]
  },
  {
   "cell_type": "code",
   "execution_count": null,
   "metadata": {},
   "outputs": [],
   "source": []
  },
  {
   "cell_type": "markdown",
   "metadata": {},
   "source": [
    "# problem11:\n",
    "### problem statement\n",
    "Factorial of a given number as a procedure\n",
    "\n",
    "\n",
    " ### constraints\n",
    " given number will be in range[1,10000000000]\n",
    " \n",
    " \n",
    "\n",
    "### test cases\n",
    "*  Factorial(5) -> 120 \n",
    "*  Factorial (6) -> 720"
   ]
  },
  {
   "cell_type": "code",
   "execution_count": 57,
   "metadata": {},
   "outputs": [
    {
     "name": "stdout",
     "output_type": "stream",
     "text": [
      "120\n",
      "720\n"
     ]
    }
   ],
   "source": [
    "def factorial(n):\n",
    "    fact=1\n",
    "    for i in range(1,n+1):\n",
    "        fact=fact*i\n",
    "    return fact\n",
    "print(factorial(5))\n",
    "print(factorial(6))"
   ]
  },
  {
   "cell_type": "code",
   "execution_count": null,
   "metadata": {},
   "outputs": [],
   "source": []
  },
  {
   "cell_type": "markdown",
   "metadata": {},
   "source": [
    "# problem12:\n",
    "### problem statement\n",
    "Design a procedure to determine if a given string is a Palindrome\n",
    "\n",
    " ### constraints\n",
    " given number will be in range[1,10000000000]\n",
    " \n",
    " \n",
    "\n",
    "### test cases\n",
    "Palindrome(\"racecar\") -> True\n",
    "Palindrome(\"raptor\") -> False"
   ]
  },
  {
   "cell_type": "code",
   "execution_count": 61,
   "metadata": {},
   "outputs": [
    {
     "name": "stdout",
     "output_type": "stream",
     "text": [
      "True\n",
      "False\n"
     ]
    }
   ],
   "source": [
    "def palindrome(s):\n",
    "    rs=s[-1::-1]\n",
    "    if(s==rs):\n",
    "        return True\n",
    "    else:\n",
    "        return False\n",
    "print(palindrome(\"racecar\"))\n",
    "print(palindrome(\"raptor\"))"
   ]
  },
  {
   "cell_type": "code",
   "execution_count": null,
   "metadata": {},
   "outputs": [],
   "source": []
  },
  {
   "cell_type": "markdown",
   "metadata": {},
   "source": [
    "# problem13:\n",
    "### problem statement\n",
    "Procedure to generate multiplication tables. \n",
    "\n",
    " ### constraints\n",
    " given number will be in range[1,10000000000]\n",
    " \n",
    " \n",
    "\n",
    "### test cases\n",
    "* MT(3, 5, 7) -> 3 X 5 = 15\n",
    "                 3 X 6 = 18\n",
    "                 3 X 7 = 21"
   ]
  },
  {
   "cell_type": "code",
   "execution_count": 64,
   "metadata": {},
   "outputs": [
    {
     "name": "stdout",
     "output_type": "stream",
     "text": [
      "30 x 100 = 3000\n",
      "30 x 101 = 3030\n",
      "30 x 102 = 3060\n",
      "30 x 103 = 3090\n",
      "30 x 104 = 3120\n",
      "30 x 105 = 3150\n",
      "30 x 106 = 3180\n",
      "30 x 107 = 3210\n"
     ]
    }
   ],
   "source": [
    "def multiplicationtable(table,ub,lb):\n",
    "    for i in range(ub,lb+1):\n",
    "        print(table,'x',i,\"=\",table*i)\n",
    "multiplicationtable(30,100,107)\n"
   ]
  },
  {
   "cell_type": "code",
   "execution_count": null,
   "metadata": {},
   "outputs": [],
   "source": []
  },
  {
   "cell_type": "markdown",
   "metadata": {},
   "source": [
    "# problem14:\n",
    "### problem statement\n",
    " Procedure to print the list of factors of a given number.\n",
    "    \n",
    "    \n",
    " ### constraints\n",
    " given number will be in range[1,10000000000]\n",
    " \n",
    " \n",
    "\n",
    "### test cases\n",
    "* FactorList(6)->1 2 3 6\n",
    "* FactorList (9)->1 3 9\n",
    "* FactorList (19)->1  19"
   ]
  },
  {
   "cell_type": "code",
   "execution_count": 70,
   "metadata": {},
   "outputs": [
    {
     "name": "stdout",
     "output_type": "stream",
     "text": [
      "[1, 2, 3, 6]\n",
      "[1, 3, 9]\n",
      "[1, 19]\n"
     ]
    }
   ],
   "source": [
    "def factorslist(n):\n",
    "    a=[]\n",
    "    for i in range(1,n+1):\n",
    "        if n%i==0:\n",
    "            a.append(i)\n",
    "    return a \n",
    "print(factorslist(6))\n",
    "print(factorslist(9))\n",
    "print(factorslist(19))"
   ]
  }
 ],
 "metadata": {
  "kernelspec": {
   "display_name": "Python 3",
   "language": "python",
   "name": "python3"
  },
  "language_info": {
   "codemirror_mode": {
    "name": "ipython",
    "version": 3
   },
   "file_extension": ".py",
   "mimetype": "text/x-python",
   "name": "python",
   "nbconvert_exporter": "python",
   "pygments_lexer": "ipython3",
   "version": "3.7.3"
  }
 },
 "nbformat": 4,
 "nbformat_minor": 2
}
