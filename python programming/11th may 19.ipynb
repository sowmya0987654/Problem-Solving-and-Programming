{
 "cells": [
  {
   "cell_type": "markdown",
   "metadata": {},
   "source": [
    "# # program solving and programming\n",
    "\n",
    "\n",
    "### Day 8\n",
    "### Date-11th may-19\n",
    " \n",
    " \n",
    " \n",
    " # problem1:\n",
    "### problem statement\n",
    "Define a function to check if a given year is a leap year. Returns a boolean value\n",
    "\n",
    "\n",
    "\n",
    " ### constraints\n",
    " given number will be in range[1,10000000000,boolean]\n",
    " \n",
    "\n",
    "### test cases\n",
    "* leapyear(2000)->True\n",
    "* leapyear(1900)->False\n",
    "* leapyear(2012)->True\n",
    "* leapyear(2020)->True\n",
    "* leapyear(0200)->False\n"
   ]
  },
  {
   "cell_type": "code",
   "execution_count": null,
   "metadata": {},
   "outputs": [],
   "source": []
  },
  {
   "cell_type": "code",
   "execution_count": 4,
   "metadata": {},
   "outputs": [
    {
     "name": "stdout",
     "output_type": "stream",
     "text": [
      "True\n",
      "False\n",
      "True\n",
      "True\n",
      "False\n"
     ]
    }
   ],
   "source": [
    "def leapyear(n):\n",
    "    if(n%100!=0 or n%400==0 and n%4==0):\n",
    "        return True\n",
    "    else:\n",
    "        return False\n",
    "print(leapyear(2000))\n",
    "print(leapyear(1900))\n",
    "print(leapyear(2012))\n",
    "print(leapyear(2020))\n",
    "print(leapyear(200))"
   ]
  },
  {
   "cell_type": "code",
   "execution_count": null,
   "metadata": {},
   "outputs": [],
   "source": []
  },
  {
   "cell_type": "markdown",
   "metadata": {},
   "source": [
    "\n",
    " # problem 2:\n",
    "### problem statement\n",
    ". Define a function to convert a binary number to the corresponding decimal number\n",
    "\n",
    "\n",
    "\n",
    " ### constraints\n",
    " given number will be in range[1,10000000000]\n",
    " \n",
    "\n",
    "### test cases\n",
    "* binaryToDecimal(1100) -> 12\n",
    "* binaryToDecimal(1010) -> 10\n",
    "* binaryToDecimal(111000) -> 56"
   ]
  },
  {
   "cell_type": "code",
   "execution_count": 12,
   "metadata": {},
   "outputs": [
    {
     "name": "stdout",
     "output_type": "stream",
     "text": [
      "12\n",
      "10\n",
      "56\n"
     ]
    }
   ],
   "source": [
    "def binarytodecimal(n):\n",
    "    num=n\n",
    "    dec=0\n",
    "    base=1\n",
    "    temp=num\n",
    "    while(temp):\n",
    "        rem=temp%10\n",
    "        temp=int(temp/10)\n",
    "        dec=dec+rem*base\n",
    "        base=base*2\n",
    "    return dec\n",
    "print(binarytodecimal(1100))\n",
    "print(binarytodecimal(1010))\n",
    "print(binarytodecimal(111000))"
   ]
  },
  {
   "cell_type": "code",
   "execution_count": null,
   "metadata": {},
   "outputs": [],
   "source": []
  },
  {
   "cell_type": "markdown",
   "metadata": {},
   "source": [
    " \n",
    " # problem 3:\n",
    "### problem statement\n",
    " Design a Python script to determine the difference in date for given two dates in YYYY:MM:DD format(0 <= YYYY <= 9999, 1 <= MM <= 12, 1 <= DD <= 31) following the leap year rules. Return the total number of days existing between the two dates\n",
    "\n",
    "\n",
    "\n",
    " ### constraints\n",
    " given number will be in range[1,10000000000,boolean]\n",
    " \n",
    "\n",
    "### test cases\n",
    "* dateDifference('2019:05:10', '2019:05:01') -> 9\n",
    "* dateDifference('0003:03:03', '0003:06:06') -> 95"
   ]
  },
  {
   "cell_type": "code",
   "execution_count": 5,
   "metadata": {},
   "outputs": [
    {
     "name": "stdout",
     "output_type": "stream",
     "text": [
      "9\n",
      "95\n"
     ]
    }
   ],
   "source": [
    "def datedifference(str1,str2):\n",
    "    y1=int(str1[0:4])\n",
    "    m1=int(str1[5:7])\n",
    "    d1=int(str1[8:10])\n",
    "    y2=int(str2[0:4])\n",
    "    m2=int(str2[5:7])\n",
    "    d2=int(str2[8:10])\n",
    "    day=0\n",
    "    day +=abs(y1-y2)*365\n",
    "    day +=abs(m1-m2)*30\n",
    "    day +=abs(d1-d2)\n",
    "    if y1!=y2:\n",
    "        for n in range(y1,y2+1):\n",
    "            if (n%100!=0 or n%4==0 and n%400==0):\n",
    "                day +=1\n",
    "    if m1!=m2:\n",
    "        for n in range(m1,m2+1):\n",
    "            if int(n) in [1,3,5,7,8,10,12]:\n",
    "                day +=1\n",
    "            elif n==2:\n",
    "                day=day-1\n",
    "    return day\n",
    "print(datedifference('2019:05:10', '2019:05:01'))\n",
    "print(datedifference('0003:03:03', '0003:06:06'))"
   ]
  },
  {
   "cell_type": "code",
   "execution_count": null,
   "metadata": {},
   "outputs": [],
   "source": []
  },
  {
   "cell_type": "markdown",
   "metadata": {},
   "source": [
    " # problem 4:\n",
    "### problem statement\n",
    "Define a function to merge the characters of two strings alternatively. The remaining characters\n",
    "of the longer string are printed in the same order at the end.\n",
    "\n",
    "\n",
    " ### constraints\n",
    " given number will be in range[1,10000000000]\n",
    " \n",
    "\n",
    "### test cases\n",
    "* mergeString('abcd', 'abcd') -> 'aabbccdd'\n",
    "* mergeString('abc', '123456') -> 'a1b2c3456'\n",
    "* mergeString('0', '123456') -> '0123456'"
   ]
  },
  {
   "cell_type": "code",
   "execution_count": 8,
   "metadata": {},
   "outputs": [
    {
     "name": "stdout",
     "output_type": "stream",
     "text": [
      "aabbccdd\n",
      "a1b2c356\n",
      "013456\n"
     ]
    }
   ],
   "source": [
    "def mergestring(m,n):\n",
    "    x=len(m)\n",
    "    y=len(n)\n",
    "    z=''\n",
    "    if(x>y):\n",
    "        for i in range(y):\n",
    "            z=z+m[i]\n",
    "            z=z+n[i]\n",
    "        for i in range(y+1,x):\n",
    "            z=z+m[i]\n",
    "    elif(x<y):\n",
    "        for i in range(x):\n",
    "            z=z+m[i]\n",
    "            z=z+n[i]\n",
    "        for i in range(x+1,y):\n",
    "            z=z+n[i]\n",
    "    else:\n",
    "        for i in range(x):\n",
    "            z=z+m[i]\n",
    "            z=z+n[i]\n",
    "    return z\n",
    "print(mergestring('abcd','abcd'))\n",
    "print(mergestring('abc','123456'))\n",
    "print(mergestring('0','123456'))\n",
    "    "
   ]
  },
  {
   "cell_type": "code",
   "execution_count": null,
   "metadata": {},
   "outputs": [],
   "source": []
  },
  {
   "cell_type": "markdown",
   "metadata": {},
   "source": [
    "# problem 5:\n",
    "### problem statement\n",
    " Define a function to identity the number of times a substring is repeating in a given string\n",
    "\n",
    "\n",
    "\n",
    " ### constraints\n",
    " given number will be in range[1,10000000000,]\n",
    " \n",
    "\n",
    "### test cases\n",
    "* substringCount('str', 'substr') -> 1\n",
    "* substringCount('1234567891122334455', '3') -> 3\n",
    "* substringCount('abccddccc', 'cc') -> 3\n",
    "* substringCount('aaaaaaa', 'aaa' ) -> 5"
   ]
  },
  {
   "cell_type": "code",
   "execution_count": 11,
   "metadata": {},
   "outputs": [
    {
     "name": "stdout",
     "output_type": "stream",
     "text": [
      "1\n",
      "3\n",
      "3\n",
      "5\n"
     ]
    }
   ],
   "source": [
    "def substring(str1,str2):\n",
    "    count=0\n",
    "    if(len(str1))<=len(str2):\n",
    "        length=len(str1)\n",
    "        mstring=str2\n",
    "        sstring=str1\n",
    "    else:\n",
    "        length=len(str2)\n",
    "        mstring=str1\n",
    "        sstring=str2\n",
    "    for i in range(0,len(mstring)):\n",
    "            if(mstring[i:length]==sstring):\n",
    "                count +=1\n",
    "            length +=1\n",
    "    return count\n",
    "print(substring('str', 'substr'))\n",
    "print(substring('1234567891122334455', '3'))\n",
    "print(substring('abccddccc', 'cc'))\n",
    "print(substring('aaaaaaa', 'aaa' ))"
   ]
  }
 ],
 "metadata": {
  "kernelspec": {
   "display_name": "Python 3",
   "language": "python",
   "name": "python3"
  },
  "language_info": {
   "codemirror_mode": {
    "name": "ipython",
    "version": 3
   },
   "file_extension": ".py",
   "mimetype": "text/x-python",
   "name": "python",
   "nbconvert_exporter": "python",
   "pygments_lexer": "ipython3",
   "version": "3.7.3"
  }
 },
 "nbformat": 4,
 "nbformat_minor": 2
}
