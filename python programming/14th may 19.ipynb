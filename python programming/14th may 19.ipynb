{
 "cells": [
  {
   "cell_type": "markdown",
   "metadata": {},
   "source": [
    "# problem 1:\n",
    "## problem statement\n",
    " Define a function to find the of all the outer elements of an N x M matrix.\n",
    "\n",
    "# constraints\n",
    "given number will be in range[1,10000000000,]\n",
    "\n",
    "# test cases\n"
   ]
  },
  {
   "cell_type": "code",
   "execution_count": 76,
   "metadata": {},
   "outputs": [
    {
     "name": "stdout",
     "output_type": "stream",
     "text": [
      "1 2 3 6 9 12 11 10 7 4 "
     ]
    }
   ],
   "source": [
    "def rowprint(a,r,rs,nc):\n",
    "    for i in range(rs,nc):\n",
    "        print(a[r][i],end=' ')\n",
    "        \n",
    "def columnprint(a,c,cs,nr):\n",
    "    for i in range(cs,nr):\n",
    "        print(a[i][c],end=' ')\n",
    "        \n",
    "        \n",
    "def reverserowprint(a,r,rs,nc):\n",
    "    for i in range(nc-rs-1,-1,-1):\n",
    "        print(a[r][i],end=' ')\n",
    "        \n",
    "        \n",
    "def reversecolumnprint(a,c,cstr,cstp,nr):\n",
    "    for i in range(nr-1-cstr,cstp,-1):\n",
    "        print(a[i][c],end=' ') \n",
    "        \n",
    "        \n",
    "def outermatrix(m1,nr,nc):\n",
    "    rowprint(m1,0,0,nc)\n",
    "    columnprint(m1,nc-1,1,nr) \n",
    "    reverserowprint(m1,nr-1,nc-2,nc)\n",
    "    reversecolumnprint(m1,0,nr-3,0,nr)\n",
    "    \n",
    "    \n",
    "m1=[[1,2,3],[4,5,6],[7,8,9],[10,11,12]]\n",
    "#rowprint(m1,0,2)\n",
    "#columnprint(m1,2,3)\n",
    "#reverserowprint(m1,2,2)\n",
    "#reversecolumnprint(m1,2,2)\n",
    "outermatrix(m1,4,3)\n",
    "    "
   ]
  },
  {
   "cell_type": "code",
   "execution_count": null,
   "metadata": {},
   "outputs": [],
   "source": []
  }
 ],
 "metadata": {
  "kernelspec": {
   "display_name": "Python 3",
   "language": "python",
   "name": "python3"
  },
  "language_info": {
   "codemirror_mode": {
    "name": "ipython",
    "version": 3
   },
   "file_extension": ".py",
   "mimetype": "text/x-python",
   "name": "python",
   "nbconvert_exporter": "python",
   "pygments_lexer": "ipython3",
   "version": "3.7.3"
  }
 },
 "nbformat": 4,
 "nbformat_minor": 2
}
