{
 "cells": [
  {
   "cell_type": "markdown",
   "metadata": {},
   "source": [
    "# problem solving and programming\n",
    "## day:16\n",
    "## date:19th may 19"
   ]
  },
  {
   "cell_type": "markdown",
   "metadata": {},
   "source": [
    "# Problem 1:\n",
    "## Problem statement\n",
    "Consider the following algorithm to generate a sequence of numbers. Start with an integer n. If n is even, divide by 2. If n is odd, multiply by 3 and add 1. Repeat this process with the new value of n, terminating when n = 1. For example, the following sequence of numbers will be generated for n = 22:"
   ]
  },
  {
   "cell_type": "code",
   "execution_count": 2,
   "metadata": {},
   "outputs": [
    {
     "data": {
      "text/plain": [
       "174"
      ]
     },
     "execution_count": 2,
     "metadata": {},
     "output_type": "execute_result"
    }
   ],
   "source": [
    "def cyclelength(n):\n",
    "    \n",
    "    length=1\n",
    "    while(n!=1):\n",
    "        if(n%2==0):\n",
    "            n=n/2\n",
    "        \n",
    "        else:\n",
    "            n=3 * n + 1\n",
    "        length +=1\n",
    "    return length\n",
    " \n",
    "def mainsolution(i,j):\n",
    "    maxlen=0\n",
    "    for k in range(i,j+1):\n",
    "        length=cyclelength(k)\n",
    "        if maxlen<length:\n",
    "            maxlen=length\n",
    "    return maxlen\n",
    "mainsolution(900,1000)"
   ]
  },
  {
   "cell_type": "code",
   "execution_count": 6,
   "metadata": {},
   "outputs": [
    {
     "data": {
      "text/plain": [
       "174"
      ]
     },
     "execution_count": 6,
     "metadata": {},
     "output_type": "execute_result"
    }
   ],
   "source": [
    "def cyclelength(n):\n",
    "    \n",
    "    length=1\n",
    "    while(n!=1):\n",
    "        if(n%2==0):\n",
    "            n=n/2\n",
    "        \n",
    "        else:\n",
    "            n=3 * n + 1\n",
    "        length +=1\n",
    "    return length\n",
    " \n",
    "def mainsolution(i,j):\n",
    "    \n",
    "    lenlist=[cyclelength(k) for k in range(i,j+1)]\n",
    "    return max(lenlist)\n",
    "\n",
    "    #return max(map(cyclelength,range(i,j+1)))  #using map\n",
    "\n",
    "    \n",
    "mainsolution(900,1000)"
   ]
  },
  {
   "cell_type": "code",
   "execution_count": null,
   "metadata": {},
   "outputs": [],
   "source": []
  }
 ],
 "metadata": {
  "kernelspec": {
   "display_name": "Python 3",
   "language": "python",
   "name": "python3"
  },
  "language_info": {
   "codemirror_mode": {
    "name": "ipython",
    "version": 3
   },
   "file_extension": ".py",
   "mimetype": "text/x-python",
   "name": "python",
   "nbconvert_exporter": "python",
   "pygments_lexer": "ipython3",
   "version": "3.7.3"
  }
 },
 "nbformat": 4,
 "nbformat_minor": 2
}
